{
 "cells": [
  {
   "cell_type": "markdown",
   "metadata": {},
   "source": [
    "# **Deep Learning with Python in TensorFlow (Computer Vision)** "
   ]
  },
  {
   "cell_type": "markdown",
   "metadata": {},
   "source": [
    "## **Written by:** Aarish Khan"
   ]
  },
  {
   "cell_type": "markdown",
   "metadata": {},
   "source": [
    "## **Date:** 3 January 2024"
   ]
  },
  {
   "cell_type": "code",
   "execution_count": null,
   "metadata": {},
   "outputs": [],
   "source": [
    "# incase you have not installed it:\n",
    "# pip install tensorflow"
   ]
  },
  {
   "cell_type": "code",
   "execution_count": 1,
   "metadata": {},
   "outputs": [
    {
     "name": "stdout",
     "output_type": "stream",
     "text": [
      "WARNING:tensorflow:From c:\\Users\\User\\anaconda3\\envs\\tf_env\\lib\\site-packages\\keras\\src\\losses.py:2976: The name tf.losses.sparse_softmax_cross_entropy is deprecated. Please use tf.compat.v1.losses.sparse_softmax_cross_entropy instead.\n",
      "\n",
      "2.15.0\n"
     ]
    }
   ],
   "source": [
    "# importing the necessary libraries \n",
    "import tensorflow as tf \n",
    "# checking out the version of tensorflow\n",
    "print(tf.__version__)"
   ]
  },
  {
   "cell_type": "code",
   "execution_count": 4,
   "metadata": {},
   "outputs": [],
   "source": [
    "# load the fashion MNIST dataset\n",
    "fmnist = tf.keras.datasets.fashion_mnist"
   ]
  },
  {
   "cell_type": "code",
   "execution_count": 5,
   "metadata": {},
   "outputs": [
    {
     "name": "stdout",
     "output_type": "stream",
     "text": [
      "Downloading data from https://storage.googleapis.com/tensorflow/tf-keras-datasets/train-labels-idx1-ubyte.gz\n",
      "29515/29515 [==============================] - 0s 2us/step\n",
      "Downloading data from https://storage.googleapis.com/tensorflow/tf-keras-datasets/train-images-idx3-ubyte.gz\n",
      "26421880/26421880 [==============================] - 9s 0us/step\n",
      "Downloading data from https://storage.googleapis.com/tensorflow/tf-keras-datasets/t10k-labels-idx1-ubyte.gz\n",
      "5148/5148 [==============================] - 0s 0s/step\n",
      "Downloading data from https://storage.googleapis.com/tensorflow/tf-keras-datasets/t10k-images-idx3-ubyte.gz\n",
      "4422102/4422102 [==============================] - 1s 0us/step\n"
     ]
    }
   ],
   "source": [
    "# Selecting the images and labels for training and testing\n",
    "(training_images, training_labels), (test_images, test_labels) = fmnist.load_data()"
   ]
  },
  {
   "cell_type": "code",
   "execution_count": 26,
   "metadata": {},
   "outputs": [
    {
     "name": "stdout",
     "output_type": "stream",
     "text": [
      "LABEL: 4\n",
      "\n",
      "IMAGE PIXEL ARRAY:\n",
      " [[  0   0   0   0   0   0   0   0   0   0   0   0   0   0   0   0   0   0   0   0   2   0   1   0   0   0   0   0]\n",
      " [  0   0   0   0   0   0   1   0   8  80 149 190 174 194 190 174 184 128  44   0   0   3   0   0   0   0   0   0]\n",
      " [  0   0   0   0   0   5   0  24 219 227 172 216 214 198 201 217 208 171 206 165   0   0   1   0   0   0   0   0]\n",
      " [  0   0   0   0   1   0   0 110 183 133 124 224 224 191 219 255 204 139 150 198  27   0   0   0   0   0   0   0]\n",
      " [  0   0   0   0   0   0 120 137 138 136 104 166 248 230 243 246 106 127 129 133 146  88   0   0   0   0   0   0]\n",
      " [  0   0   0   0   0  31 141 107 129 143 166 130 224 255 253 199 151 186 129 113  90 150  20   0   0   0   0   0]\n",
      " [  0   0   0   0   0  83 117  97  90 119 163 114 190 235 225 176 116 175  99  99 101 118  83   0   0   0   0   0]\n",
      " [  0   0   0   0   0  99 116 101  97 119 123  77  87 157 139  86  78 138  97 108  98 119 108   0   0   0   0   0]\n",
      " [  0   0   0   0   0 110 116 103  91 122 124 102 100 123 117  98 101 145 100 105  99 124 132   0   0   0   0   0]\n",
      " [  0   0   0   0   0 117 128 125  85 135 124 100  98 147 138 102 101 144 105  98 125 135 146   0   0   0   0   0]\n",
      " [  0   0   0   0   0 131 125 155  95 124 106 109  92 144 137  97 107 124 112 109 122 139 132   0   0   0   0   0]\n",
      " [  0   0   0   0   0 144 118 154 105 109 102 112  94 143 139  97 109 104 108 111  98 142 146   0   0   0   0   0]\n",
      " [  0   0   0   0   8 158 118 151 101 107 103 110  93 141 140  96 113 105 108 103 117 133 160   0   0   0   0   0]\n",
      " [  0   0   0   0  21 164 118 156 116 109 110 117  96 141 145  99 117 111 112 107 132 139 170   6   0   0   0   0]\n",
      " [  0   0   0   0  29 166 118 172 125 105 105 123 104 154 142 105 120 118 111 113 139 155 175  13   0   0   0   0]\n",
      " [  0   0   0   0  34 174 121 152 115 106  97 103  98 153 146 103 107 106 100 106 134 170 170  23   0   0   0   0]\n",
      " [  0   0   0   0  38 179 125 148 123 103 120 128 163 158 159 151 116 129 116 115 131 185 164  32   0   0   0   0]\n",
      " [  0   0   0   0  41 173 136 146 114 103 102 114  96 148 144 102 121 125 114 101 130 197 154  39   0   0   0   0]\n",
      " [  0   0   0   0  51 162 148 150 107 106 101 116 105 146 139  97 106  99 110  95 131 196 150  49   0   0   0   0]\n",
      " [  0   0   0   0  62 146 159 136 101 103 107 119  98 149 141 104 109 110 102  94 138 196 136  60   0   0   0   0]\n",
      " [  0   0   0   0  68 128 165 139  95 102 103 113 101 151 140 109 112 107 110  97 164 196 120  66   0   0   0   0]\n",
      " [  0   0   0   0  69 127 156 157  88 103 110 122 107 145 149 100 119 108 117  84 177 194 113  69   0   0   0   0]\n",
      " [  0   0   0   0  67 137 158 181  95 113 109 119 112 140 151 108 124 108 118  94 182 184 123  65   0   0   0   0]\n",
      " [  0   0   0   0  62 134 168 167  62 101  93 102  98 140 142  99 103  84  94  59 146 193 120  64   0   0   0   0]\n",
      " [  0   0   0   0  61 120 177 114 124 158 160 167 116 150 140 122 168 168 162 130 119 195 121  69   0   0   0   0]\n",
      " [  0   0   0   0  51 122 181  44 176 195 184 175  92 119 108 117 187 181 194 191  49 185 120  67   0   0   0   0]\n",
      " [  0   0   0   0  50 137 184  20   0   0   0   0   0   0   0   0   0   0   0   0  24 182 135  69   0   0   0   0]\n",
      " [  0   0   0   0  72 145 148  11   0   0   0   0   0   0   0   0   0   0   0   0  12 151 149  64   0   0   0   0]]\n"
     ]
    },
    {
     "data": {
      "text/plain": [
       "<matplotlib.image.AxesImage at 0x187ae511400>"
      ]
     },
     "execution_count": 26,
     "metadata": {},
     "output_type": "execute_result"
    },
    {
     "data": {
      "image/png": "[encoded data removed]",
      "text/plain": [
       "<Figure size 640x480 with 1 Axes>"
      ]
     },
     "metadata": {},
     "output_type": "display_data"
    }
   ],
   "source": [
    "# import necessary library\n",
    "import numpy as np \n",
    "import matplotlib.pyplot as plt \n",
    "\n",
    "# here you can put the value from 0 to 59999\n",
    "index = 28\n",
    "\n",
    "# here you can set the number of characters per row\n",
    "np.set_printoptions(linewidth=160)\n",
    "\n",
    "# print label and image\n",
    "print(f'LABEL: {training_labels[index]}')\n",
    "\n",
    "# \\n before \"IMAGE PIXEL ARRAY:\" creates a blank line before the text \"IMAGE PIXEL ARRAY:\"\n",
    "print(f'\\nIMAGE PIXEL ARRAY:\\n {training_images[index]}')\n",
    "\n",
    "# visualzing the image\n",
    "plt.imshow(training_images[index])"
   ]
  },
  {
   "cell_type": "code",
   "execution_count": 27,
   "metadata": {},
   "outputs": [],
   "source": [
    "# Normalize the pixel values of the test and train images (0 to 1 ranged)\n",
    "training_images = training_images / 255.0\n",
    "test_images = test_images / 255.0"
   ]
  },
  {
   "cell_type": "code",
   "execution_count": 30,
   "metadata": {},
   "outputs": [],
   "source": [
    "# Building the classifiction model\n",
    "# the sequential function is used to create a sequence of models.\n",
    "model = tf.keras.models.Sequential([tf.keras.layers.Flatten(),\n",
    "                                    # inside of the keras functions there is a function called Dense, we can change the density. nn stands for neural network.\n",
    "                                    tf.keras.layers.Dense(128, activation=tf.nn.relu),\n",
    "                                    # there are two types of activation functions, the first is relu(rectified linear unit) and softmax.\n",
    "                                                          tf.keras.layers.Dense(10, activation=tf.nn.softmax)])"
   ]
  },
  {
   "cell_type": "code",
   "execution_count": 31,
   "metadata": {},
   "outputs": [
    {
     "name": "stdout",
     "output_type": "stream",
     "text": [
      "input to softmax function: [[1. 3. 4. 2.]]\n",
      "output of softmax function: [[0.0320586  0.23688282 0.64391426 0.08714432]]\n",
      "sum of outputs: 1.0\n",
      "class with highest probability: 2\n"
     ]
    }
   ],
   "source": [
    "# Declare sample inputs and convert to a tensor\n",
    "inputs = np.array([[1.0, 3.0, 4.0, 2.0]])\n",
    "inputs = tf.convert_to_tensor(inputs)\n",
    "print(f'input to softmax function: {inputs.numpy()}')\n",
    "\n",
    "# Feed the inputs to a softmax activation function\n",
    "outputs = tf.keras.activations.softmax(inputs)\n",
    "print(f'output of softmax function: {outputs.numpy()}')\n",
    "\n",
    "# Get the sum of all values after the softmax\n",
    "sum = tf.reduce_sum(outputs)\n",
    "print(f'sum of outputs: {sum}')\n",
    "\n",
    "# Get the index with highest value\n",
    "prediction = np.argmax(outputs)\n",
    "print(f'class with highest probability: {prediction}')"
   ]
  },
  {
   "cell_type": "code",
   "execution_count": 32,
   "metadata": {},
   "outputs": [
    {
     "name": "stdout",
     "output_type": "stream",
     "text": [
      "Epoch 1/5\n",
      "WARNING:tensorflow:From c:\\Users\\User\\anaconda3\\envs\\tf_env\\lib\\site-packages\\keras\\src\\utils\\tf_utils.py:492: The name tf.ragged.RaggedTensorValue is deprecated. Please use tf.compat.v1.ragged.RaggedTensorValue instead.\n",
      "\n",
      "WARNING:tensorflow:From c:\\Users\\User\\anaconda3\\envs\\tf_env\\lib\\site-packages\\keras\\src\\engine\\base_layer_utils.py:384: The name tf.executing_eagerly_outside_functions is deprecated. Please use tf.compat.v1.executing_eagerly_outside_functions instead.\n",
      "\n",
      "1875/1875 [==============================] - 9s 4ms/step - loss: 0.5006 - accuracy: 0.8219\n",
      "Epoch 2/5\n",
      "1875/1875 [==============================] - 7s 4ms/step - loss: 0.3747 - accuracy: 0.8647\n",
      "Epoch 3/5\n",
      "1875/1875 [==============================] - 7s 4ms/step - loss: 0.3370 - accuracy: 0.8771\n",
      "Epoch 4/5\n",
      "1875/1875 [==============================] - 8s 4ms/step - loss: 0.3127 - accuracy: 0.8853\n",
      "Epoch 5/5\n",
      "1875/1875 [==============================] - 8s 4ms/step - loss: 0.2944 - accuracy: 0.8914\n"
     ]
    },
    {
     "data": {
      "text/plain": [
       "<keras.src.callbacks.History at 0x187a72ba8b0>"
      ]
     },
     "execution_count": 32,
     "metadata": {},
     "output_type": "execute_result"
    }
   ],
   "source": [
    "# the compile function allows us to configure our model for training. It configues the optimizer, loss function and metrics.\n",
    "model.compile(optimizer = tf.optimizers.Adam(), # The adam optimizer is a popular algorithm, its used to adjust the weights of the model during training.\n",
    "              loss = 'sparse_categorical_crossentropy',\n",
    "              # the loss function tells us how our model is performing.\n",
    "              metrics=['accuracy']) # the metrics function specifies that the model's performance will be based on accuracy.\n",
    "\n",
    "model.fit(training_images, training_labels, epochs=5) # the epocs function is like a loop."
   ]
  },
  {
   "cell_type": "code",
   "execution_count": 33,
   "metadata": {},
   "outputs": [
    {
     "name": "stdout",
     "output_type": "stream",
     "text": [
      "313/313 [==============================] - 2s 4ms/step - loss: 0.3466 - accuracy: 0.8726\n"
     ]
    },
    {
     "data": {
      "text/plain": [
       "[0.3466489315032959, 0.8726000189781189]"
      ]
     },
     "execution_count": 33,
     "metadata": {},
     "output_type": "execute_result"
    }
   ],
   "source": [
    "# Evaluate the model on unseen data\n",
    "# the evaluate function is stored in a ml library tensorflow.\n",
    "model.evaluate(test_images, test_labels) # the model will make predictions on these test images and labels."
   ]
  }
 ],
 "metadata": {
  "kernelspec": {
   "display_name": "Python 3",
   "language": "python",
   "name": "python3"
  },
  "language_info": {
   "codemirror_mode": {
    "name": "ipython",
    "version": 3
   },
   "file_extension": ".py",
   "mimetype": "text/x-python",
   "name": "python",
   "nbconvert_exporter": "python",
   "pygments_lexer": "ipython3",
   "version": "3.9.18"
  }
 },
 "nbformat": 4,
 "nbformat_minor": 2
}
